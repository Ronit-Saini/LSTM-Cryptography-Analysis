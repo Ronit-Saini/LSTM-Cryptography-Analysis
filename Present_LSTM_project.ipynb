{
  "nbformat": 4,
  "nbformat_minor": 0,
  "metadata": {
    "colab": {
      "provenance": []
    },
    "kernelspec": {
      "name": "python3",
      "display_name": "Python 3"
    },
    "language_info": {
      "name": "python"
    }
  },
  "cells": [
    {
      "cell_type": "code",
      "execution_count": 14,
      "metadata": {
        "colab": {
          "base_uri": "https://localhost:8080/"
        },
        "id": "uhD9rShSxVnI",
        "outputId": "0f19a0d7-bf3d-40ad-a5a1-825cc9b5054c",
        "collapsed": true
      },
      "outputs": [
        {
          "output_type": "stream",
          "name": "stderr",
          "text": [
            "<ipython-input-14-fa096455466c>:3: DtypeWarning: Columns (0,1,2,3,4,5,6,7,8,9,10,11,12,13,14,15,16,17,18,19,20,21,22,23,24,25,26,27,28,29,30,31,32,33,34,35,36,37,38,39,40,41,42,43,44,45,46,47,48,49,50,51,52,53,54,55,56,57,58,59,60,61,62,63) have mixed types. Specify dtype option on import or set low_memory=False.\n",
            "  df = pd.read_csv('/content/dataset_with_normal_sboxes.csv', skip_blank_lines=False)\n"
          ]
        }
      ],
      "source": [
        "import pandas as pd\n",
        "\n",
        "df = pd.read_csv('/content/dataset_with_normal_sboxes.csv', skip_blank_lines=False)\n",
        "split_index = df.index[df.isnull().all(axis=1)][0]\n",
        "\n",
        "\n",
        "plaintext_df = df.iloc[:split_index]\n",
        "ciphertext_df = df.iloc[split_index + 2:]\n",
        "\n",
        "\n",
        "plaintext_data = plaintext_df.to_numpy()\n",
        "ciphertext_data = ciphertext_df.to_numpy()\n"
      ]
    },
    {
      "cell_type": "code",
      "source": [
        "from sklearn.model_selection import train_test_split\n",
        "\n",
        "\n",
        "X_train, X_temp, y_train, y_temp = train_test_split(ciphertext_data, plaintext_data, train_size=80000, random_state=42)\n",
        "X_val, X_test, y_val, y_test = train_test_split(X_temp, y_temp, train_size=10000, random_state=42)\n",
        "\n",
        "\n",
        "X_train = X_train.reshape((X_train.shape[0], 1, X_train.shape[1]))\n",
        "X_val = X_val.reshape((X_val.shape[0], 1, X_val.shape[1]))\n",
        "X_test = X_test.reshape((X_test.shape[0], 1, X_test.shape[1]))\n"
      ],
      "metadata": {
        "id": "NtoQ5ba_x6vR"
      },
      "execution_count": 15,
      "outputs": []
    },
    {
      "cell_type": "code",
      "source": [
        "import tensorflow\n",
        "from tensorflow.keras.models import Sequential\n",
        "from tensorflow.keras.layers import LSTM, Dense\n",
        "import numpy as np\n",
        "\n",
        "\n",
        "X_train = X_train.astype('float32')\n",
        "X_val = X_val.astype('float32')\n",
        "X_test = X_test.astype('float32')\n",
        "\n",
        "y_train = y_train.astype('float32')\n",
        "y_val = y_val.astype('float32')\n",
        "y_test = y_test.astype('float32')\n",
        "\n",
        "print(f\"X_train shape: {X_train.shape}\")\n",
        "print(f\"y_train shape: {y_train.shape}\")\n",
        "print(f\"X_val shape: {X_val.shape}\")\n",
        "print(f\"y_val shape: {y_val.shape}\")\n",
        "print(f\"X_test shape: {X_test.shape}\")\n",
        "print(f\"y_test shape: {y_test.shape}\")\n",
        "\n",
        "\n",
        "model = Sequential()\n",
        "model.add(LSTM(64, input_shape=(1, 64), return_sequences=False))\n",
        "model.add(Dense(64, activation='sigmoid'))\n",
        "\n",
        "\n",
        "model.compile(optimizer='adam', loss='binary_crossentropy', metrics=['accuracy'])\n",
        "\n",
        "history = model.fit(X_train, y_train, epochs=10, batch_size=64, validation_data=(X_val, y_val))\n"
      ],
      "metadata": {
        "colab": {
          "base_uri": "https://localhost:8080/"
        },
        "id": "9RwzrfU9x9BP",
        "outputId": "796ef5d3-0b9e-43b7-8641-330deb790319"
      },
      "execution_count": 16,
      "outputs": [
        {
          "output_type": "stream",
          "name": "stdout",
          "text": [
            "X_train shape: (80000, 1, 64)\n",
            "y_train shape: (80000, 64)\n",
            "X_val shape: (10000, 1, 64)\n",
            "y_val shape: (10000, 64)\n",
            "X_test shape: (10000, 1, 64)\n",
            "y_test shape: (10000, 64)\n",
            "Epoch 1/10\n",
            "1250/1250 [==============================] - 9s 4ms/step - loss: 0.6756 - accuracy: 0.0022 - val_loss: 0.6686 - val_accuracy: 0.0015\n",
            "Epoch 2/10\n",
            "1250/1250 [==============================] - 6s 5ms/step - loss: 0.6644 - accuracy: 5.5000e-04 - val_loss: 0.6624 - val_accuracy: 0.0012\n",
            "Epoch 3/10\n",
            "1250/1250 [==============================] - 6s 5ms/step - loss: 0.6592 - accuracy: 4.8750e-04 - val_loss: 0.6585 - val_accuracy: 2.0000e-04\n",
            "Epoch 4/10\n",
            "1250/1250 [==============================] - 5s 4ms/step - loss: 0.6559 - accuracy: 3.8750e-04 - val_loss: 0.6560 - val_accuracy: 4.0000e-04\n",
            "Epoch 5/10\n",
            "1250/1250 [==============================] - 7s 5ms/step - loss: 0.6537 - accuracy: 3.7500e-04 - val_loss: 0.6545 - val_accuracy: 0.0000e+00\n",
            "Epoch 6/10\n",
            "1250/1250 [==============================] - 5s 4ms/step - loss: 0.6523 - accuracy: 4.1250e-04 - val_loss: 0.6535 - val_accuracy: 0.0000e+00\n",
            "Epoch 7/10\n",
            "1250/1250 [==============================] - 5s 4ms/step - loss: 0.6512 - accuracy: 3.0000e-04 - val_loss: 0.6528 - val_accuracy: 1.0000e-04\n",
            "Epoch 8/10\n",
            "1250/1250 [==============================] - 6s 5ms/step - loss: 0.6504 - accuracy: 3.8750e-04 - val_loss: 0.6522 - val_accuracy: 2.0000e-04\n",
            "Epoch 9/10\n",
            "1250/1250 [==============================] - 5s 4ms/step - loss: 0.6498 - accuracy: 2.8750e-04 - val_loss: 0.6518 - val_accuracy: 2.0000e-04\n",
            "Epoch 10/10\n",
            "1250/1250 [==============================] - 6s 5ms/step - loss: 0.6492 - accuracy: 2.2500e-04 - val_loss: 0.6513 - val_accuracy: 5.0000e-04\n"
          ]
        }
      ]
    },
    {
      "cell_type": "code",
      "source": [
        "\n",
        "test_loss, test_accuracy = model.evaluate(X_test, y_test)\n",
        "print(f\"Overall Test Accuracy: {test_accuracy}\")\n",
        "y_pred = model.predict(X_test)\n",
        "\n",
        "\n",
        "y_pred_binary = (y_pred > 0.5).astype(int)\n",
        "bit_accuracies = (y_pred_binary == y_test).mean(axis=0)\n"
      ],
      "metadata": {
        "colab": {
          "base_uri": "https://localhost:8080/"
        },
        "id": "lgoOvOHZx_XL",
        "outputId": "d87b8fb3-72c8-4c1a-c5e0-c16f2bfdf287"
      },
      "execution_count": null,
      "outputs": [
        {
          "output_type": "stream",
          "name": "stdout",
          "text": [
            "313/313 [==============================] - 1s 3ms/step - loss: 0.6938 - accuracy: 0.0295\n",
            "Overall Test Accuracy: 0.029500000178813934\n",
            "313/313 [==============================] - 1s 2ms/step\n"
          ]
        }
      ]
    },
    {
      "cell_type": "code",
      "source": [
        "\n",
        "bit_accuracy_df = pd.DataFrame({\n",
        "    'Bit Position': [f'Bit {i}' for i in range(64)],\n",
        "    'Accuracy': bit_accuracies\n",
        "})\n",
        "\n",
        "\n",
        "bit_accuracy_df.to_csv('bit_accuracies.csv', index=False)\n",
        "print(\"Bit-wise accuracies have been saved to 'bit_accuracies.csv'.\")\n"
      ],
      "metadata": {
        "colab": {
          "base_uri": "https://localhost:8080/"
        },
        "id": "GF7H2Qu9yEdv",
        "outputId": "4c33eb1e-9286-4827-fd17-353c72cbca9f"
      },
      "execution_count": null,
      "outputs": [
        {
          "output_type": "stream",
          "name": "stdout",
          "text": [
            "Bit-wise accuracies have been saved to 'bit_accuracies.csv'.\n"
          ]
        }
      ]
    },
    {
      "cell_type": "markdown",
      "source": [],
      "metadata": {
        "id": "AZZfhQZGaBO8"
      }
    },
    {
      "cell_type": "markdown",
      "source": [
        "**The below code should be ran after we get both the csv files, and then used for comparison**"
      ],
      "metadata": {
        "id": "D-Z7FjUoaBJF"
      }
    },
    {
      "cell_type": "code",
      "source": [
        "import pandas as pd\n",
        "\n",
        "# Load the data\n",
        "normal_sbox_df = pd.read_csv('/content/Normal S-Box results.csv')\n",
        "changed_sbox_df = pd.read_csv('/content/Changed S-Box Results.csv')\n",
        "\n",
        "# Combine the data for comparison\n",
        "comparison_df = normal_sbox_df.copy()\n",
        "comparison_df['Accuracy_Changed_Sbox'] = changed_sbox_df['Accuracy']\n",
        "\n",
        "# Calculate mean accuracies\n",
        "mean_accuracy_normal = comparison_df['Accuracy'].mean()\n",
        "mean_accuracy_changed = comparison_df['Accuracy_Changed_Sbox'].mean()\n",
        "\n",
        "# Calculate accuracy differences\n",
        "comparison_df['Accuracy_Difference'] = comparison_df['Accuracy_Changed_Sbox'] - comparison_df['Accuracy']\n",
        "\n",
        "# Summary statistics\n",
        "improved_bits = (comparison_df['Accuracy_Difference'] > 0).sum()\n",
        "degraded_bits = (comparison_df['Accuracy_Difference'] < 0).sum()\n",
        "unchanged_bits = (comparison_df['Accuracy_Difference'] == 0).sum()\n",
        "\n",
        "# Print the detailed comparison and conclusions\n",
        "print(f\"Mean accuracy with normal S-box: {mean_accuracy_normal:.4f}\")\n",
        "print(f\"Mean accuracy with changed S-box: {mean_accuracy_changed:.4f}\")\n",
        "print(f\"Bits with improved accuracy: {improved_bits}\")\n",
        "print(f\"Bits with degraded accuracy: {degraded_bits}\")\n",
        "print(f\"Bits with unchanged accuracy: {unchanged_bits}\")\n",
        "print(\"\\nDetailed Comparison:\\n\", comparison_df)\n",
        "\n",
        "\n",
        "# Determine which bits have the most significant changes\n",
        "comparison_df['Significant_Change'] = comparison_df['Accuracy_Difference'].apply(lambda x: 'Improved' if x > 0 else 'Degraded' if x < 0 else 'Unchanged')\n",
        "print(\"\\nBits with Significant Changes:\\n\", comparison_df[['Bit Position', 'Significant_Change', 'Accuracy_Difference']])\n",
        "\n",
        "\n",
        "if mean_accuracy_changed > mean_accuracy_normal:\n",
        "    print(\"\\nOverall, the LSTM model performed better with the changed S-box.\")\n",
        "else:\n",
        "    print(\"\\nOverall, the LSTM model performed worse with the changed S-box.\")\n",
        "\n"
      ],
      "metadata": {
        "colab": {
          "base_uri": "https://localhost:8080/"
        },
        "id": "sECdU0A4-W4e",
        "outputId": "0fe7fe35-abd3-4646-83d9-77062ea91b89"
      },
      "execution_count": 11,
      "outputs": [
        {
          "output_type": "stream",
          "name": "stdout",
          "text": [
            "Mean accuracy with normal S-box: 0.5383\n",
            "Mean accuracy with changed S-box: 0.5006\n",
            "Bits with improved accuracy: 32\n",
            "Bits with degraded accuracy: 32\n",
            "Bits with unchanged accuracy: 0\n",
            "\n",
            "Detailed Comparison:\n",
            "    Bit Position  Accuracy  Accuracy_Changed_Sbox  Accuracy_Difference\n",
            "0         Bit 0    0.4965                 0.5082               0.0117\n",
            "1         Bit 1    0.4970                 0.4995               0.0025\n",
            "2         Bit 2    0.4911                 0.5074               0.0163\n",
            "3         Bit 3    0.4952                 0.4974               0.0022\n",
            "4         Bit 4    0.4999                 0.5013               0.0014\n",
            "..          ...       ...                    ...                  ...\n",
            "59       Bit 59    0.8490                 0.5005              -0.3485\n",
            "60       Bit 60    0.9185                 0.5097              -0.4088\n",
            "61       Bit 61    0.8516                 0.4971              -0.3545\n",
            "62       Bit 62    0.8554                 0.4944              -0.3610\n",
            "63       Bit 63    0.8535                 0.5105              -0.3430\n",
            "\n",
            "[64 rows x 4 columns]\n",
            "\n",
            "Bits with Significant Changes:\n",
            "    Bit Position Significant_Change  Accuracy_Difference\n",
            "0         Bit 0           Improved               0.0117\n",
            "1         Bit 1           Improved               0.0025\n",
            "2         Bit 2           Improved               0.0163\n",
            "3         Bit 3           Improved               0.0022\n",
            "4         Bit 4           Improved               0.0014\n",
            "..          ...                ...                  ...\n",
            "59       Bit 59           Degraded              -0.3485\n",
            "60       Bit 60           Degraded              -0.4088\n",
            "61       Bit 61           Degraded              -0.3545\n",
            "62       Bit 62           Degraded              -0.3610\n",
            "63       Bit 63           Degraded              -0.3430\n",
            "\n",
            "[64 rows x 3 columns]\n",
            "\n",
            "Overall, the LSTM model performed worse with the changed S-box.\n"
          ]
        }
      ]
    }
  ]
}